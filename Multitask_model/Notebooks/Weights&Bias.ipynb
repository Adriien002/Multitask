{
 "cells": [
  {
   "cell_type": "markdown",
   "metadata": {},
   "source": [
    "Initiation to Weight&Bias"
   ]
  },
  {
   "cell_type": "code",
   "execution_count": 1,
   "metadata": {},
   "outputs": [
    {
     "name": "stdout",
     "output_type": "stream",
     "text": [
      "cuda\n"
     ]
    }
   ],
   "source": [
    "\n",
    "import pandas as pd\n",
    "\n",
    "from sklearn.model_selection import train_test_split\n",
    "from sklearn.preprocessing import StandardScaler\n",
    "from sklearn.ensemble import RandomForestClassifier\n",
    "\n",
    "import torch\n",
    "import torch.nn as nn\n",
    "import torch.optim as optim\n",
    "from torch.utils.data import DataLoader, TensorDataset\n",
    "\n",
    "import joblib\n",
    "\n",
    "def load_raw_titanc():\n",
    "  # Load the Titanic dataset\n",
    "  titanic_url = 'https://raw.githubusercontent.com/datasciencedojo/datasets/master/titanic.csv'\n",
    "  return pd.read_csv(titanic_url)\n",
    "\n",
    "def clean_titanic(titanic_data, fill_missing=True):\n",
    "  df = titanic_data.drop(['PassengerId', 'Name', 'Ticket', 'Cabin'], axis=1)\n",
    "  # Fill missing values\n",
    "  if fill_missing:\n",
    "    df['Age'].fillna(df['Age'].median(), inplace=True)\n",
    "    df['Embarked'].fillna(df['Embarked'].mode()[0], inplace=True)\n",
    "    df['Fare'].fillna(df['Fare'].median(), inplace=True)\n",
    "  else:\n",
    "    df = df.dropna()\n",
    "  # Encode categorical features\n",
    "  df['Sex'] = df['Sex'].map({'male': 0, 'female': 1})\n",
    "  df['Embarked'] = df['Embarked'].map({'C': 0, 'Q': 1, 'S': 2})\n",
    "  return df\n",
    "\n",
    "def load_titanic(cleaned=True, Xy=True):\n",
    "  '''\n",
    "  Returns the titanic dataset\n",
    "  '''\n",
    "  # Get data\n",
    "  df = load_raw_titanc()\n",
    "  # Clean data\n",
    "  if cleaned:\n",
    "    # Drop useless features\n",
    "    df = clean_titanic(df)\n",
    "  # Split Data\n",
    "  if Xy:\n",
    "    return df.drop('Survived', axis=1), df['Survived'] # X, y\n",
    "  return df\n",
    "\n",
    "def get_data_loaders(X_train, X_test, y_train, y_test, batch_size=32):\n",
    "  # Convert to Tensors\n",
    "  X_train_tensor = torch.tensor(X_train.to_numpy(), dtype=torch.float32)\n",
    "  y_train_tensor = torch.tensor(y_train.values, dtype=torch.float32).view(-1, 1)\n",
    "  X_test_tensor = torch.tensor(X_test.to_numpy(), dtype=torch.float32)\n",
    "  y_test_tensor = torch.tensor(y_test.values, dtype=torch.float32).view(-1, 1)\n",
    "\n",
    "  # Create Datasets\n",
    "  train_dataset = TensorDataset(X_train_tensor, y_train_tensor)\n",
    "  test_dataset = TensorDataset(X_test_tensor, y_test_tensor)\n",
    "\n",
    "  # Create DataLoaders\n",
    "  train_loader = DataLoader(train_dataset, batch_size=batch_size, shuffle=True)\n",
    "  test_loader = DataLoader(test_dataset, batch_size=batch_size, shuffle=False)\n",
    "\n",
    "  return train_loader, test_loader\n",
    "\n",
    "def train_loop(train_loader, model, optimizer, criterion, device):\n",
    "  model.train()\n",
    "  epoch_train_loss = 0.0\n",
    "  for batch, labels in train_loader:\n",
    "    batch, labels = batch.to(device), labels.to(device)\n",
    "    optimizer.zero_grad()\n",
    "    # Forward Pass\n",
    "    outputs = model(batch)\n",
    "    loss = criterion(outputs, labels)\n",
    "    # Update Parameters\n",
    "    loss.backward()\n",
    "    optimizer.step()\n",
    "    # Save loss\n",
    "    epoch_train_loss += loss.item() * batch.size(0)\n",
    "  return epoch_train_loss / len(train_loader.dataset)\n",
    "\n",
    "def test_loop(test_loader, model, criterion, device):\n",
    "  model.eval()\n",
    "  epoch_test_loss = 0.0\n",
    "  with torch.no_grad():\n",
    "    for batch, labels in test_loader:\n",
    "      batch, labels = batch.to(device), labels.to(device)\n",
    "      # Calculate predictions\n",
    "      outputs = model(batch)\n",
    "      # Save loss\n",
    "      loss = criterion(outputs, labels)\n",
    "      epoch_test_loss += loss.item() * batch.size(0)\n",
    "  return epoch_test_loss / len(test_loader.dataset)\n",
    "\n",
    "device = torch.device('cuda' if torch.cuda.is_available() else 'cpu')\n",
    "print(device)"
   ]
  },
  {
   "cell_type": "code",
   "execution_count": 3,
   "metadata": {},
   "outputs": [
    {
     "name": "stdout",
     "output_type": "stream",
     "text": [
      "Collecting wandb\n",
      "  Using cached wandb-0.21.1-py3-none-manylinux_2_17_x86_64.manylinux2014_x86_64.whl.metadata (10 kB)\n",
      "Collecting click!=8.0.0,>=7.1 (from wandb)\n",
      "  Using cached click-8.2.1-py3-none-any.whl.metadata (2.5 kB)\n",
      "Collecting gitpython!=3.1.29,>=1.0.0 (from wandb)\n",
      "  Using cached gitpython-3.1.45-py3-none-any.whl.metadata (13 kB)\n",
      "Requirement already satisfied: packaging in /store/home/tibia/Projet_Hemorragie/hemorragie-env/lib/python3.12/site-packages (from wandb) (24.2)\n",
      "Requirement already satisfied: platformdirs in /store/home/tibia/Projet_Hemorragie/hemorragie-env/lib/python3.12/site-packages (from wandb) (4.3.7)\n",
      "Requirement already satisfied: protobuf!=4.21.0,!=5.28.0,<7,>=3.19.0 in /store/home/tibia/Projet_Hemorragie/hemorragie-env/lib/python3.12/site-packages (from wandb) (6.30.2)\n",
      "Collecting pydantic<3 (from wandb)\n",
      "  Using cached pydantic-2.11.7-py3-none-any.whl.metadata (67 kB)\n",
      "Requirement already satisfied: pyyaml in /store/home/tibia/Projet_Hemorragie/hemorragie-env/lib/python3.12/site-packages (from wandb) (6.0.2)\n",
      "Requirement already satisfied: requests<3,>=2.0.0 in /store/home/tibia/Projet_Hemorragie/hemorragie-env/lib/python3.12/site-packages (from wandb) (2.32.3)\n",
      "Collecting sentry-sdk>=2.0.0 (from wandb)\n",
      "  Using cached sentry_sdk-2.34.1-py2.py3-none-any.whl.metadata (10 kB)\n",
      "Requirement already satisfied: typing-extensions<5,>=4.8 in /store/home/tibia/Projet_Hemorragie/hemorragie-env/lib/python3.12/site-packages (from wandb) (4.13.2)\n",
      "Collecting annotated-types>=0.6.0 (from pydantic<3->wandb)\n",
      "  Using cached annotated_types-0.7.0-py3-none-any.whl.metadata (15 kB)\n",
      "Collecting pydantic-core==2.33.2 (from pydantic<3->wandb)\n",
      "  Using cached pydantic_core-2.33.2-cp312-cp312-manylinux_2_17_x86_64.manylinux2014_x86_64.whl.metadata (6.8 kB)\n",
      "Collecting typing-inspection>=0.4.0 (from pydantic<3->wandb)\n",
      "  Using cached typing_inspection-0.4.1-py3-none-any.whl.metadata (2.6 kB)\n",
      "Requirement already satisfied: charset-normalizer<4,>=2 in /store/home/tibia/Projet_Hemorragie/hemorragie-env/lib/python3.12/site-packages (from requests<3,>=2.0.0->wandb) (3.4.2)\n",
      "Requirement already satisfied: idna<4,>=2.5 in /store/home/tibia/Projet_Hemorragie/hemorragie-env/lib/python3.12/site-packages (from requests<3,>=2.0.0->wandb) (3.10)\n",
      "Requirement already satisfied: urllib3<3,>=1.21.1 in /store/home/tibia/Projet_Hemorragie/hemorragie-env/lib/python3.12/site-packages (from requests<3,>=2.0.0->wandb) (2.4.0)\n",
      "Requirement already satisfied: certifi>=2017.4.17 in /store/home/tibia/Projet_Hemorragie/hemorragie-env/lib/python3.12/site-packages (from requests<3,>=2.0.0->wandb) (2025.4.26)\n",
      "Collecting gitdb<5,>=4.0.1 (from gitpython!=3.1.29,>=1.0.0->wandb)\n",
      "  Using cached gitdb-4.0.12-py3-none-any.whl.metadata (1.2 kB)\n",
      "Collecting smmap<6,>=3.0.1 (from gitdb<5,>=4.0.1->gitpython!=3.1.29,>=1.0.0->wandb)\n",
      "  Using cached smmap-5.0.2-py3-none-any.whl.metadata (4.3 kB)\n",
      "Using cached wandb-0.21.1-py3-none-manylinux_2_17_x86_64.manylinux2014_x86_64.whl (22.4 MB)\n",
      "Using cached pydantic-2.11.7-py3-none-any.whl (444 kB)\n",
      "Using cached pydantic_core-2.33.2-cp312-cp312-manylinux_2_17_x86_64.manylinux2014_x86_64.whl (2.0 MB)\n",
      "Using cached annotated_types-0.7.0-py3-none-any.whl (13 kB)\n",
      "Using cached click-8.2.1-py3-none-any.whl (102 kB)\n",
      "Using cached gitpython-3.1.45-py3-none-any.whl (208 kB)\n",
      "Using cached gitdb-4.0.12-py3-none-any.whl (62 kB)\n",
      "Using cached smmap-5.0.2-py3-none-any.whl (24 kB)\n",
      "Using cached sentry_sdk-2.34.1-py2.py3-none-any.whl (357 kB)\n",
      "Using cached typing_inspection-0.4.1-py3-none-any.whl (14 kB)\n",
      "Installing collected packages: typing-inspection, smmap, sentry-sdk, pydantic-core, click, annotated-types, pydantic, gitdb, gitpython, wandb\n",
      "\u001b[2K   \u001b[90m━━━━━━━━━━━━━━━━━━━━━━━━━━━━━━━━━━━━━━━━\u001b[0m \u001b[32m10/10\u001b[0m [wandb]m 9/10\u001b[0m [wandb]hon]types]\n",
      "\u001b[1A\u001b[2KSuccessfully installed annotated-types-0.7.0 click-8.2.1 gitdb-4.0.12 gitpython-3.1.45 pydantic-2.11.7 pydantic-core-2.33.2 sentry-sdk-2.34.1 smmap-5.0.2 typing-inspection-0.4.1 wandb-0.21.1\n",
      "\n",
      "\u001b[1m[\u001b[0m\u001b[34;49mnotice\u001b[0m\u001b[1;39;49m]\u001b[0m\u001b[39;49m A new release of pip is available: \u001b[0m\u001b[31;49m25.1.1\u001b[0m\u001b[39;49m -> \u001b[0m\u001b[32;49m25.2\u001b[0m\n",
      "\u001b[1m[\u001b[0m\u001b[34;49mnotice\u001b[0m\u001b[1;39;49m]\u001b[0m\u001b[39;49m To update, run: \u001b[0m\u001b[32;49mpip install --upgrade pip\u001b[0m\n"
     ]
    }
   ],
   "source": [
    "! pip install wandb\n",
    "import wandb\n"
   ]
  },
  {
   "cell_type": "code",
   "execution_count": 5,
   "metadata": {},
   "outputs": [
    {
     "name": "stderr",
     "output_type": "stream",
     "text": [
      "\u001b[34m\u001b[1mwandb\u001b[0m: Logging into wandb.ai. (Learn how to deploy a W&B server locally: https://wandb.me/wandb-server)\n",
      "\u001b[34m\u001b[1mwandb\u001b[0m: You can find your API key in your browser here: https://wandb.ai/authorize\n",
      "\u001b[34m\u001b[1mwandb\u001b[0m: Paste an API key from your profile and hit enter:\u001b[34m\u001b[1mwandb\u001b[0m: \u001b[33mWARNING\u001b[0m If you're specifying your api key in code, ensure this code is not shared publicly.\n",
      "\u001b[34m\u001b[1mwandb\u001b[0m: \u001b[33mWARNING\u001b[0m Consider setting the WANDB_API_KEY environment variable, or running `wandb login` from the command line.\n",
      "\u001b[34m\u001b[1mwandb\u001b[0m: No netrc file found, creating one.\n",
      "\u001b[34m\u001b[1mwandb\u001b[0m: Appending key for api.wandb.ai to your netrc file: /home/tibia/.netrc\n",
      "\u001b[34m\u001b[1mwandb\u001b[0m: Currently logged in as: \u001b[33mad_92_ywlcod\u001b[0m (\u001b[33mad_92_ywlcod-polytechnique-montr-al\u001b[0m) to \u001b[32mhttps://api.wandb.ai\u001b[0m. Use \u001b[1m`wandb login --relogin`\u001b[0m to force relogin\n"
     ]
    },
    {
     "data": {
      "text/plain": [
       "True"
      ]
     },
     "execution_count": 5,
     "metadata": {},
     "output_type": "execute_result"
    }
   ],
   "source": [
    "# Initialize Weights & Biases\n",
    "wandb.login() # Login"
   ]
  },
  {
   "cell_type": "markdown",
   "metadata": {},
   "source": [
    "## Simple Scikit-Learn Run"
   ]
  },
  {
   "cell_type": "code",
   "execution_count": 7,
   "metadata": {},
   "outputs": [
    {
     "data": {
      "text/html": [
       "Tracking run with wandb version 0.21.1"
      ],
      "text/plain": [
       "<IPython.core.display.HTML object>"
      ]
     },
     "metadata": {},
     "output_type": "display_data"
    },
    {
     "data": {
      "text/html": [
       "Run data is saved locally in <code>/store/home/tibia/Projet_Hemorragie/Seg_hemorragie/Notebooks/wandb/run-20250813_063449-r1w80821</code>"
      ],
      "text/plain": [
       "<IPython.core.display.HTML object>"
      ]
     },
     "metadata": {},
     "output_type": "display_data"
    },
    {
     "data": {
      "text/html": [
       "Syncing run <strong><a href='https://wandb.ai/ad_92_ywlcod-polytechnique-montr-al/Simple%20Scikit-Learn%20Run/runs/r1w80821' target=\"_blank\">copper-serenity-2</a></strong> to <a href='https://wandb.ai/ad_92_ywlcod-polytechnique-montr-al/Simple%20Scikit-Learn%20Run' target=\"_blank\">Weights & Biases</a> (<a href='https://wandb.me/developer-guide' target=\"_blank\">docs</a>)<br>"
      ],
      "text/plain": [
       "<IPython.core.display.HTML object>"
      ]
     },
     "metadata": {},
     "output_type": "display_data"
    },
    {
     "data": {
      "text/html": [
       " View project at <a href='https://wandb.ai/ad_92_ywlcod-polytechnique-montr-al/Simple%20Scikit-Learn%20Run' target=\"_blank\">https://wandb.ai/ad_92_ywlcod-polytechnique-montr-al/Simple%20Scikit-Learn%20Run</a>"
      ],
      "text/plain": [
       "<IPython.core.display.HTML object>"
      ]
     },
     "metadata": {},
     "output_type": "display_data"
    },
    {
     "data": {
      "text/html": [
       " View run at <a href='https://wandb.ai/ad_92_ywlcod-polytechnique-montr-al/Simple%20Scikit-Learn%20Run/runs/r1w80821' target=\"_blank\">https://wandb.ai/ad_92_ywlcod-polytechnique-montr-al/Simple%20Scikit-Learn%20Run/runs/r1w80821</a>"
      ],
      "text/plain": [
       "<IPython.core.display.HTML object>"
      ]
     },
     "metadata": {},
     "output_type": "display_data"
    },
    {
     "name": "stderr",
     "output_type": "stream",
     "text": [
      "/tmp/ipykernel_3477752/2301243684.py:23: FutureWarning: A value is trying to be set on a copy of a DataFrame or Series through chained assignment using an inplace method.\n",
      "The behavior will change in pandas 3.0. This inplace method will never work because the intermediate object on which we are setting values always behaves as a copy.\n",
      "\n",
      "For example, when doing 'df[col].method(value, inplace=True)', try using 'df.method({col: value}, inplace=True)' or df[col] = df[col].method(value) instead, to perform the operation inplace on the original object.\n",
      "\n",
      "\n",
      "  df['Age'].fillna(df['Age'].median(), inplace=True)\n",
      "/tmp/ipykernel_3477752/2301243684.py:24: FutureWarning: A value is trying to be set on a copy of a DataFrame or Series through chained assignment using an inplace method.\n",
      "The behavior will change in pandas 3.0. This inplace method will never work because the intermediate object on which we are setting values always behaves as a copy.\n",
      "\n",
      "For example, when doing 'df[col].method(value, inplace=True)', try using 'df.method({col: value}, inplace=True)' or df[col] = df[col].method(value) instead, to perform the operation inplace on the original object.\n",
      "\n",
      "\n",
      "  df['Embarked'].fillna(df['Embarked'].mode()[0], inplace=True)\n",
      "/tmp/ipykernel_3477752/2301243684.py:25: FutureWarning: A value is trying to be set on a copy of a DataFrame or Series through chained assignment using an inplace method.\n",
      "The behavior will change in pandas 3.0. This inplace method will never work because the intermediate object on which we are setting values always behaves as a copy.\n",
      "\n",
      "For example, when doing 'df[col].method(value, inplace=True)', try using 'df.method({col: value}, inplace=True)' or df[col] = df[col].method(value) instead, to perform the operation inplace on the original object.\n",
      "\n",
      "\n",
      "  df['Fare'].fillna(df['Fare'].median(), inplace=True)\n",
      "\u001b[34m\u001b[1mwandb\u001b[0m: \u001b[32m\u001b[41mERROR\u001b[0m The nbformat package was not found. It is required to save notebook history.\n"
     ]
    },
    {
     "data": {
      "text/html": [],
      "text/plain": [
       "<IPython.core.display.HTML object>"
      ]
     },
     "metadata": {},
     "output_type": "display_data"
    },
    {
     "data": {
      "text/html": [
       "<br>    <style><br>        .wandb-row {<br>            display: flex;<br>            flex-direction: row;<br>            flex-wrap: wrap;<br>            justify-content: flex-start;<br>            width: 100%;<br>        }<br>        .wandb-col {<br>            display: flex;<br>            flex-direction: column;<br>            flex-basis: 100%;<br>            flex: 1;<br>            padding: 10px;<br>        }<br>    </style><br><div class=\"wandb-row\"><div class=\"wandb-col\"><h3>Run history:</h3><br/><table class=\"wandb\"><tr><td>accuracy</td><td>▁</td></tr></table><br/></div><div class=\"wandb-col\"><h3>Run summary:</h3><br/><table class=\"wandb\"><tr><td>accuracy</td><td>0.82682</td></tr></table><br/></div></div>"
      ],
      "text/plain": [
       "<IPython.core.display.HTML object>"
      ]
     },
     "metadata": {},
     "output_type": "display_data"
    },
    {
     "data": {
      "text/html": [
       " View run <strong style=\"color:#cdcd00\">copper-serenity-2</strong> at: <a href='https://wandb.ai/ad_92_ywlcod-polytechnique-montr-al/Simple%20Scikit-Learn%20Run/runs/r1w80821' target=\"_blank\">https://wandb.ai/ad_92_ywlcod-polytechnique-montr-al/Simple%20Scikit-Learn%20Run/runs/r1w80821</a><br> View project at: <a href='https://wandb.ai/ad_92_ywlcod-polytechnique-montr-al/Simple%20Scikit-Learn%20Run' target=\"_blank\">https://wandb.ai/ad_92_ywlcod-polytechnique-montr-al/Simple%20Scikit-Learn%20Run</a><br>Synced 5 W&B file(s), 0 media file(s), 0 artifact file(s) and 0 other file(s)"
      ],
      "text/plain": [
       "<IPython.core.display.HTML object>"
      ]
     },
     "metadata": {},
     "output_type": "display_data"
    },
    {
     "data": {
      "text/html": [
       "Find logs at: <code>./wandb/run-20250813_063449-r1w80821/logs</code>"
      ],
      "text/plain": [
       "<IPython.core.display.HTML object>"
      ]
     },
     "metadata": {},
     "output_type": "display_data"
    }
   ],
   "source": [
    "# Define hyperparameters\n",
    "n_estimators = 10\n",
    "max_depth = 5\n",
    "\n",
    "# Create a new run in a project\n",
    "run = wandb.init(\n",
    "    project=\"Simple Scikit-Learn Run\",\n",
    "    notes=\"commit message for the run\",\n",
    "    config={\n",
    "        \"n_estimators\": n_estimators,\n",
    "        \"max_depth\": max_depth\n",
    "    }\n",
    ")\n",
    "\n",
    "# Get Data\n",
    "X, y = load_titanic()\n",
    "X_train, X_test, y_train, y_test = train_test_split(X, y, test_size=0.2,\n",
    "                                                    random_state=42)\n",
    "\n",
    "# Define Random Forest Classifier\n",
    "clf = RandomForestClassifier(n_estimators=n_estimators, max_depth=max_depth)\n",
    "clf.fit(X_train, y_train)\n",
    "\n",
    "# Log metrics\n",
    "wandb.log({\"accuracy\": clf.score(X_test, y_test)})\n",
    "\n",
    "# Finish the run\n",
    "wandb.finish()"
   ]
  },
  {
   "cell_type": "markdown",
   "metadata": {},
   "source": [
    "## Simple PyTorch Run"
   ]
  },
  {
   "cell_type": "code",
   "execution_count": 9,
   "metadata": {},
   "outputs": [
    {
     "data": {
      "text/html": [
       "Tracking run with wandb version 0.21.1"
      ],
      "text/plain": [
       "<IPython.core.display.HTML object>"
      ]
     },
     "metadata": {},
     "output_type": "display_data"
    },
    {
     "data": {
      "text/html": [
       "Run data is saved locally in <code>/store/home/tibia/Projet_Hemorragie/Seg_hemorragie/Notebooks/wandb/run-20250813_064348-4fz25x1j</code>"
      ],
      "text/plain": [
       "<IPython.core.display.HTML object>"
      ]
     },
     "metadata": {},
     "output_type": "display_data"
    },
    {
     "data": {
      "text/html": [
       "Syncing run <strong><a href='https://wandb.ai/ad_92_ywlcod-polytechnique-montr-al/Simple%20PyTorch%20Run/runs/4fz25x1j' target=\"_blank\">MyRun2</a></strong> to <a href='https://wandb.ai/ad_92_ywlcod-polytechnique-montr-al/Simple%20PyTorch%20Run' target=\"_blank\">Weights & Biases</a> (<a href='https://wandb.me/developer-guide' target=\"_blank\">docs</a>)<br>"
      ],
      "text/plain": [
       "<IPython.core.display.HTML object>"
      ]
     },
     "metadata": {},
     "output_type": "display_data"
    },
    {
     "data": {
      "text/html": [
       " View project at <a href='https://wandb.ai/ad_92_ywlcod-polytechnique-montr-al/Simple%20PyTorch%20Run' target=\"_blank\">https://wandb.ai/ad_92_ywlcod-polytechnique-montr-al/Simple%20PyTorch%20Run</a>"
      ],
      "text/plain": [
       "<IPython.core.display.HTML object>"
      ]
     },
     "metadata": {},
     "output_type": "display_data"
    },
    {
     "data": {
      "text/html": [
       " View run at <a href='https://wandb.ai/ad_92_ywlcod-polytechnique-montr-al/Simple%20PyTorch%20Run/runs/4fz25x1j' target=\"_blank\">https://wandb.ai/ad_92_ywlcod-polytechnique-montr-al/Simple%20PyTorch%20Run/runs/4fz25x1j</a>"
      ],
      "text/plain": [
       "<IPython.core.display.HTML object>"
      ]
     },
     "metadata": {},
     "output_type": "display_data"
    },
    {
     "name": "stderr",
     "output_type": "stream",
     "text": [
      "/tmp/ipykernel_3477752/2301243684.py:23: FutureWarning: A value is trying to be set on a copy of a DataFrame or Series through chained assignment using an inplace method.\n",
      "The behavior will change in pandas 3.0. This inplace method will never work because the intermediate object on which we are setting values always behaves as a copy.\n",
      "\n",
      "For example, when doing 'df[col].method(value, inplace=True)', try using 'df.method({col: value}, inplace=True)' or df[col] = df[col].method(value) instead, to perform the operation inplace on the original object.\n",
      "\n",
      "\n",
      "  df['Age'].fillna(df['Age'].median(), inplace=True)\n",
      "/tmp/ipykernel_3477752/2301243684.py:24: FutureWarning: A value is trying to be set on a copy of a DataFrame or Series through chained assignment using an inplace method.\n",
      "The behavior will change in pandas 3.0. This inplace method will never work because the intermediate object on which we are setting values always behaves as a copy.\n",
      "\n",
      "For example, when doing 'df[col].method(value, inplace=True)', try using 'df.method({col: value}, inplace=True)' or df[col] = df[col].method(value) instead, to perform the operation inplace on the original object.\n",
      "\n",
      "\n",
      "  df['Embarked'].fillna(df['Embarked'].mode()[0], inplace=True)\n",
      "/tmp/ipykernel_3477752/2301243684.py:25: FutureWarning: A value is trying to be set on a copy of a DataFrame or Series through chained assignment using an inplace method.\n",
      "The behavior will change in pandas 3.0. This inplace method will never work because the intermediate object on which we are setting values always behaves as a copy.\n",
      "\n",
      "For example, when doing 'df[col].method(value, inplace=True)', try using 'df.method({col: value}, inplace=True)' or df[col] = df[col].method(value) instead, to perform the operation inplace on the original object.\n",
      "\n",
      "\n",
      "  df['Fare'].fillna(df['Fare'].median(), inplace=True)\n"
     ]
    },
    {
     "name": "stdout",
     "output_type": "stream",
     "text": [
      "[Epoch 1/5] TrainLoss: 0.7698668536175503; TestLoss: 0.6154204297332124\n",
      "[Epoch 2/5] TrainLoss: 0.6025607465358263; TestLoss: 0.5765274716489142\n",
      "[Epoch 3/5] TrainLoss: 0.601865224623948; TestLoss: 0.5650724099335058\n"
     ]
    },
    {
     "name": "stderr",
     "output_type": "stream",
     "text": [
      "\u001b[34m\u001b[1mwandb\u001b[0m: \u001b[32m\u001b[41mERROR\u001b[0m The nbformat package was not found. It is required to save notebook history.\n"
     ]
    },
    {
     "name": "stdout",
     "output_type": "stream",
     "text": [
      "[Epoch 4/5] TrainLoss: 0.5642196455698335; TestLoss: 0.5208456622821659\n",
      "[Epoch 5/5] TrainLoss: 0.5386903058277087; TestLoss: 0.4880216682756413\n"
     ]
    },
    {
     "data": {
      "text/html": [],
      "text/plain": [
       "<IPython.core.display.HTML object>"
      ]
     },
     "metadata": {},
     "output_type": "display_data"
    },
    {
     "data": {
      "text/html": [
       "<br>    <style><br>        .wandb-row {<br>            display: flex;<br>            flex-direction: row;<br>            flex-wrap: wrap;<br>            justify-content: flex-start;<br>            width: 100%;<br>        }<br>        .wandb-col {<br>            display: flex;<br>            flex-direction: column;<br>            flex-basis: 100%;<br>            flex: 1;<br>            padding: 10px;<br>        }<br>    </style><br><div class=\"wandb-row\"><div class=\"wandb-col\"><h3>Run history:</h3><br/><table class=\"wandb\"><tr><td>test_loss</td><td>█▆▅▃▁</td></tr><tr><td>train_loss</td><td>█▃▃▂▁</td></tr></table><br/></div><div class=\"wandb-col\"><h3>Run summary:</h3><br/><table class=\"wandb\"><tr><td>test_loss</td><td>0.48802</td></tr><tr><td>train_loss</td><td>0.53869</td></tr></table><br/></div></div>"
      ],
      "text/plain": [
       "<IPython.core.display.HTML object>"
      ]
     },
     "metadata": {},
     "output_type": "display_data"
    },
    {
     "data": {
      "text/html": [
       " View run <strong style=\"color:#cdcd00\">MyRun2</strong> at: <a href='https://wandb.ai/ad_92_ywlcod-polytechnique-montr-al/Simple%20PyTorch%20Run/runs/4fz25x1j' target=\"_blank\">https://wandb.ai/ad_92_ywlcod-polytechnique-montr-al/Simple%20PyTorch%20Run/runs/4fz25x1j</a><br> View project at: <a href='https://wandb.ai/ad_92_ywlcod-polytechnique-montr-al/Simple%20PyTorch%20Run' target=\"_blank\">https://wandb.ai/ad_92_ywlcod-polytechnique-montr-al/Simple%20PyTorch%20Run</a><br>Synced 5 W&B file(s), 0 media file(s), 0 artifact file(s) and 0 other file(s)"
      ],
      "text/plain": [
       "<IPython.core.display.HTML object>"
      ]
     },
     "metadata": {},
     "output_type": "display_data"
    },
    {
     "data": {
      "text/html": [
       "Find logs at: <code>./wandb/run-20250813_064348-4fz25x1j/logs</code>"
      ],
      "text/plain": [
       "<IPython.core.display.HTML object>"
      ]
     },
     "metadata": {},
     "output_type": "display_data"
    }
   ],
   "source": [
    "# Define hyperparameters\n",
    "num_epochs = 5\n",
    "learning_rate = 0.01\n",
    "run_count = 2\n",
    "\n",
    "# Start a run\n",
    "run = wandb.init(\n",
    "    project=\"Simple PyTorch Run\",\n",
    "    name=f\"MyRun{run_count}\",\n",
    "    config={\n",
    "        \"num_epochs\": num_epochs,\n",
    "        \"learning_rate\": learning_rate\n",
    "    }\n",
    ")\n",
    "\n",
    "# Get Data\n",
    "X, y = load_titanic()\n",
    "X_train, X_test, y_train, y_test = train_test_split(X, y, test_size=0.2,\n",
    "                                                    random_state=42)\n",
    "train_loader, test_loader = get_data_loaders(X_train, X_test, y_train, y_test)\n",
    "\n",
    "# Define Simple PyTorch Model\n",
    "model = nn.Sequential(\n",
    "    nn.Linear(7, 64), # 7 input features -> 32 hidden nodes\n",
    "    nn.ReLU(),\n",
    "    nn.Linear(64, 16),\n",
    "    nn.ReLU(),\n",
    "    nn.Linear(16, 1),\n",
    "    nn.Sigmoid()\n",
    ").to(device)\n",
    "\n",
    "criterion = nn.BCELoss()\n",
    "optimizer = optim.Adam(model.parameters(), lr=learning_rate)\n",
    "\n",
    "for epoch in range(num_epochs):\n",
    "  train_loss = train_loop(train_loader, model, optimizer, criterion, device)\n",
    "  test_loss = test_loop(test_loader, model, criterion, device)\n",
    "\n",
    "  print(f\"[Epoch {epoch+1}/{num_epochs}] TrainLoss: {train_loss}; TestLoss: {test_loss}\")\n",
    "  wandb.log({\n",
    "    \"train_loss\": train_loss,\n",
    "    \"test_loss\": test_loss\n",
    "  })\n",
    "\n",
    "wandb.finish()\n",
    "     "
   ]
  },
  {
   "cell_type": "markdown",
   "metadata": {},
   "source": [
    "## Dataset Artifact"
   ]
  },
  {
   "cell_type": "code",
   "execution_count": 10,
   "metadata": {},
   "outputs": [
    {
     "data": {
      "text/html": [
       "Tracking run with wandb version 0.21.1"
      ],
      "text/plain": [
       "<IPython.core.display.HTML object>"
      ]
     },
     "metadata": {},
     "output_type": "display_data"
    },
    {
     "data": {
      "text/html": [
       "Run data is saved locally in <code>/store/home/tibia/Projet_Hemorragie/Seg_hemorragie/Notebooks/wandb/run-20250813_065650-m60fk8ac</code>"
      ],
      "text/plain": [
       "<IPython.core.display.HTML object>"
      ]
     },
     "metadata": {},
     "output_type": "display_data"
    },
    {
     "data": {
      "text/html": [
       "Syncing run <strong><a href='https://wandb.ai/ad_92_ywlcod-polytechnique-montr-al/Artifacts%20Registry/runs/m60fk8ac' target=\"_blank\">clean-serenity-1</a></strong> to <a href='https://wandb.ai/ad_92_ywlcod-polytechnique-montr-al/Artifacts%20Registry' target=\"_blank\">Weights & Biases</a> (<a href='https://wandb.me/developer-guide' target=\"_blank\">docs</a>)<br>"
      ],
      "text/plain": [
       "<IPython.core.display.HTML object>"
      ]
     },
     "metadata": {},
     "output_type": "display_data"
    },
    {
     "data": {
      "text/html": [
       " View project at <a href='https://wandb.ai/ad_92_ywlcod-polytechnique-montr-al/Artifacts%20Registry' target=\"_blank\">https://wandb.ai/ad_92_ywlcod-polytechnique-montr-al/Artifacts%20Registry</a>"
      ],
      "text/plain": [
       "<IPython.core.display.HTML object>"
      ]
     },
     "metadata": {},
     "output_type": "display_data"
    },
    {
     "data": {
      "text/html": [
       " View run at <a href='https://wandb.ai/ad_92_ywlcod-polytechnique-montr-al/Artifacts%20Registry/runs/m60fk8ac' target=\"_blank\">https://wandb.ai/ad_92_ywlcod-polytechnique-montr-al/Artifacts%20Registry/runs/m60fk8ac</a>"
      ],
      "text/plain": [
       "<IPython.core.display.HTML object>"
      ]
     },
     "metadata": {},
     "output_type": "display_data"
    },
    {
     "name": "stderr",
     "output_type": "stream",
     "text": [
      "\u001b[34m\u001b[1mwandb\u001b[0m: \u001b[32m\u001b[41mERROR\u001b[0m The nbformat package was not found. It is required to save notebook history.\n"
     ]
    },
    {
     "data": {
      "text/html": [],
      "text/plain": [
       "<IPython.core.display.HTML object>"
      ]
     },
     "metadata": {},
     "output_type": "display_data"
    },
    {
     "data": {
      "text/html": [
       " View run <strong style=\"color:#cdcd00\">clean-serenity-1</strong> at: <a href='https://wandb.ai/ad_92_ywlcod-polytechnique-montr-al/Artifacts%20Registry/runs/m60fk8ac' target=\"_blank\">https://wandb.ai/ad_92_ywlcod-polytechnique-montr-al/Artifacts%20Registry/runs/m60fk8ac</a><br> View project at: <a href='https://wandb.ai/ad_92_ywlcod-polytechnique-montr-al/Artifacts%20Registry' target=\"_blank\">https://wandb.ai/ad_92_ywlcod-polytechnique-montr-al/Artifacts%20Registry</a><br>Synced 5 W&B file(s), 0 media file(s), 2 artifact file(s) and 0 other file(s)"
      ],
      "text/plain": [
       "<IPython.core.display.HTML object>"
      ]
     },
     "metadata": {},
     "output_type": "display_data"
    },
    {
     "data": {
      "text/html": [
       "Find logs at: <code>./wandb/run-20250813_065650-m60fk8ac/logs</code>"
      ],
      "text/plain": [
       "<IPython.core.display.HTML object>"
      ]
     },
     "metadata": {},
     "output_type": "display_data"
    }
   ],
   "source": [
    "run = wandb.init(project=\"Artifacts Registry\", job_type=\"data-loading\")\n",
    "\n",
    "# Save data locally\n",
    "raw_titanic_df = load_titanic(cleaned=False, Xy=False)\n",
    "raw_titanic_df.to_csv('raw_titanic.csv', index=False)  # Save as CSV\n",
    "\n",
    "# Create Artifact object\n",
    "raw_dataset_artifact = wandb.Artifact(name='raw_titanic', type='dataset')\n",
    "\n",
    "# Add files to the artifact (multiple)\n",
    "raw_dataset_artifact.add_file('raw_titanic.csv')\n",
    "\n",
    "# Log the artifact\n",
    "wandb.log_artifact(raw_dataset_artifact, aliases=[\"raw\"])\n",
    "\n",
    "wandb.finish()"
   ]
  },
  {
   "cell_type": "markdown",
   "metadata": {},
   "source": [
    "\n",
    "### Add Cleaned Dataset Artifact (version 0)"
   ]
  },
  {
   "cell_type": "code",
   "execution_count": 11,
   "metadata": {},
   "outputs": [
    {
     "data": {
      "text/html": [
       "Tracking run with wandb version 0.21.1"
      ],
      "text/plain": [
       "<IPython.core.display.HTML object>"
      ]
     },
     "metadata": {},
     "output_type": "display_data"
    },
    {
     "data": {
      "text/html": [
       "Run data is saved locally in <code>/store/home/tibia/Projet_Hemorragie/Seg_hemorragie/Notebooks/wandb/run-20250813_065655-wya3787j</code>"
      ],
      "text/plain": [
       "<IPython.core.display.HTML object>"
      ]
     },
     "metadata": {},
     "output_type": "display_data"
    },
    {
     "data": {
      "text/html": [
       "Syncing run <strong><a href='https://wandb.ai/ad_92_ywlcod-polytechnique-montr-al/Artifacts%20Registry/runs/wya3787j' target=\"_blank\">faithful-music-2</a></strong> to <a href='https://wandb.ai/ad_92_ywlcod-polytechnique-montr-al/Artifacts%20Registry' target=\"_blank\">Weights & Biases</a> (<a href='https://wandb.me/developer-guide' target=\"_blank\">docs</a>)<br>"
      ],
      "text/plain": [
       "<IPython.core.display.HTML object>"
      ]
     },
     "metadata": {},
     "output_type": "display_data"
    },
    {
     "data": {
      "text/html": [
       " View project at <a href='https://wandb.ai/ad_92_ywlcod-polytechnique-montr-al/Artifacts%20Registry' target=\"_blank\">https://wandb.ai/ad_92_ywlcod-polytechnique-montr-al/Artifacts%20Registry</a>"
      ],
      "text/plain": [
       "<IPython.core.display.HTML object>"
      ]
     },
     "metadata": {},
     "output_type": "display_data"
    },
    {
     "data": {
      "text/html": [
       " View run at <a href='https://wandb.ai/ad_92_ywlcod-polytechnique-montr-al/Artifacts%20Registry/runs/wya3787j' target=\"_blank\">https://wandb.ai/ad_92_ywlcod-polytechnique-montr-al/Artifacts%20Registry/runs/wya3787j</a>"
      ],
      "text/plain": [
       "<IPython.core.display.HTML object>"
      ]
     },
     "metadata": {},
     "output_type": "display_data"
    },
    {
     "name": "stderr",
     "output_type": "stream",
     "text": [
      "\u001b[34m\u001b[1mwandb\u001b[0m: \u001b[32m\u001b[41mERROR\u001b[0m The nbformat package was not found. It is required to save notebook history.\n"
     ]
    },
    {
     "data": {
      "text/html": [],
      "text/plain": [
       "<IPython.core.display.HTML object>"
      ]
     },
     "metadata": {},
     "output_type": "display_data"
    },
    {
     "data": {
      "text/html": [
       " View run <strong style=\"color:#cdcd00\">faithful-music-2</strong> at: <a href='https://wandb.ai/ad_92_ywlcod-polytechnique-montr-al/Artifacts%20Registry/runs/wya3787j' target=\"_blank\">https://wandb.ai/ad_92_ywlcod-polytechnique-montr-al/Artifacts%20Registry/runs/wya3787j</a><br> View project at: <a href='https://wandb.ai/ad_92_ywlcod-polytechnique-montr-al/Artifacts%20Registry' target=\"_blank\">https://wandb.ai/ad_92_ywlcod-polytechnique-montr-al/Artifacts%20Registry</a><br>Synced 5 W&B file(s), 0 media file(s), 2 artifact file(s) and 0 other file(s)"
      ],
      "text/plain": [
       "<IPython.core.display.HTML object>"
      ]
     },
     "metadata": {},
     "output_type": "display_data"
    },
    {
     "data": {
      "text/html": [
       "Find logs at: <code>./wandb/run-20250813_065655-wya3787j/logs</code>"
      ],
      "text/plain": [
       "<IPython.core.display.HTML object>"
      ]
     },
     "metadata": {},
     "output_type": "display_data"
    }
   ],
   "source": [
    "run = wandb.init(project=\"Artifacts Registry\", job_type=\"data-loading\")\n",
    "\n",
    "# Get clean data\n",
    "clean_titanic_df_dropped = clean_titanic(raw_titanic_df, fill_missing=False)\n",
    "clean_titanic_df_dropped.to_csv('clean_titanic.csv', index=False)\n",
    "\n",
    "# Create and Log New Artifact\n",
    "run.log_artifact(\n",
    "    artifact_or_path=\"clean_titanic.csv\",\n",
    "    name=\"clean_titanic\",\n",
    "    type=\"dataset\",\n",
    "    aliases=[\"dropped\"]\n",
    ")\n",
    "\n",
    "wandb.finish()"
   ]
  },
  {
   "cell_type": "markdown",
   "metadata": {},
   "source": [
    "### Create New Cleaned Dataset (Version 1)"
   ]
  },
  {
   "cell_type": "code",
   "execution_count": 14,
   "metadata": {},
   "outputs": [
    {
     "data": {
      "text/html": [
       "Finishing previous runs because reinit is set to 'default'."
      ],
      "text/plain": [
       "<IPython.core.display.HTML object>"
      ]
     },
     "metadata": {},
     "output_type": "display_data"
    },
    {
     "data": {
      "text/html": [],
      "text/plain": [
       "<IPython.core.display.HTML object>"
      ]
     },
     "metadata": {},
     "output_type": "display_data"
    },
    {
     "data": {
      "text/html": [
       " View run <strong style=\"color:#cdcd00\">mild-armadillo-4</strong> at: <a href='https://wandb.ai/ad_92_ywlcod-polytechnique-montr-al/Artifacts%20Registry/runs/e6km2xme' target=\"_blank\">https://wandb.ai/ad_92_ywlcod-polytechnique-montr-al/Artifacts%20Registry/runs/e6km2xme</a><br> View project at: <a href='https://wandb.ai/ad_92_ywlcod-polytechnique-montr-al/Artifacts%20Registry' target=\"_blank\">https://wandb.ai/ad_92_ywlcod-polytechnique-montr-al/Artifacts%20Registry</a><br>Synced 5 W&B file(s), 0 media file(s), 0 artifact file(s) and 0 other file(s)"
      ],
      "text/plain": [
       "<IPython.core.display.HTML object>"
      ]
     },
     "metadata": {},
     "output_type": "display_data"
    },
    {
     "data": {
      "text/html": [
       "Find logs at: <code>./wandb/run-20250813_071428-e6km2xme/logs</code>"
      ],
      "text/plain": [
       "<IPython.core.display.HTML object>"
      ]
     },
     "metadata": {},
     "output_type": "display_data"
    },
    {
     "data": {
      "text/html": [
       "Tracking run with wandb version 0.21.1"
      ],
      "text/plain": [
       "<IPython.core.display.HTML object>"
      ]
     },
     "metadata": {},
     "output_type": "display_data"
    },
    {
     "data": {
      "text/html": [
       "Run data is saved locally in <code>/store/home/tibia/Projet_Hemorragie/Seg_hemorragie/Notebooks/wandb/run-20250813_071654-lsnhr4uv</code>"
      ],
      "text/plain": [
       "<IPython.core.display.HTML object>"
      ]
     },
     "metadata": {},
     "output_type": "display_data"
    },
    {
     "data": {
      "text/html": [
       "Syncing run <strong><a href='https://wandb.ai/ad_92_ywlcod-polytechnique-montr-al/Artifacts%20Registry/runs/lsnhr4uv' target=\"_blank\">comic-energy-5</a></strong> to <a href='https://wandb.ai/ad_92_ywlcod-polytechnique-montr-al/Artifacts%20Registry' target=\"_blank\">Weights & Biases</a> (<a href='https://wandb.me/developer-guide' target=\"_blank\">docs</a>)<br>"
      ],
      "text/plain": [
       "<IPython.core.display.HTML object>"
      ]
     },
     "metadata": {},
     "output_type": "display_data"
    },
    {
     "data": {
      "text/html": [
       " View project at <a href='https://wandb.ai/ad_92_ywlcod-polytechnique-montr-al/Artifacts%20Registry' target=\"_blank\">https://wandb.ai/ad_92_ywlcod-polytechnique-montr-al/Artifacts%20Registry</a>"
      ],
      "text/plain": [
       "<IPython.core.display.HTML object>"
      ]
     },
     "metadata": {},
     "output_type": "display_data"
    },
    {
     "data": {
      "text/html": [
       " View run at <a href='https://wandb.ai/ad_92_ywlcod-polytechnique-montr-al/Artifacts%20Registry/runs/lsnhr4uv' target=\"_blank\">https://wandb.ai/ad_92_ywlcod-polytechnique-montr-al/Artifacts%20Registry/runs/lsnhr4uv</a>"
      ],
      "text/plain": [
       "<IPython.core.display.HTML object>"
      ]
     },
     "metadata": {},
     "output_type": "display_data"
    },
    {
     "name": "stderr",
     "output_type": "stream",
     "text": [
      "/tmp/ipykernel_3477752/2301243684.py:23: FutureWarning: A value is trying to be set on a copy of a DataFrame or Series through chained assignment using an inplace method.\n",
      "The behavior will change in pandas 3.0. This inplace method will never work because the intermediate object on which we are setting values always behaves as a copy.\n",
      "\n",
      "For example, when doing 'df[col].method(value, inplace=True)', try using 'df.method({col: value}, inplace=True)' or df[col] = df[col].method(value) instead, to perform the operation inplace on the original object.\n",
      "\n",
      "\n",
      "  df['Age'].fillna(df['Age'].median(), inplace=True)\n",
      "/tmp/ipykernel_3477752/2301243684.py:24: FutureWarning: A value is trying to be set on a copy of a DataFrame or Series through chained assignment using an inplace method.\n",
      "The behavior will change in pandas 3.0. This inplace method will never work because the intermediate object on which we are setting values always behaves as a copy.\n",
      "\n",
      "For example, when doing 'df[col].method(value, inplace=True)', try using 'df.method({col: value}, inplace=True)' or df[col] = df[col].method(value) instead, to perform the operation inplace on the original object.\n",
      "\n",
      "\n",
      "  df['Embarked'].fillna(df['Embarked'].mode()[0], inplace=True)\n",
      "/tmp/ipykernel_3477752/2301243684.py:25: FutureWarning: A value is trying to be set on a copy of a DataFrame or Series through chained assignment using an inplace method.\n",
      "The behavior will change in pandas 3.0. This inplace method will never work because the intermediate object on which we are setting values always behaves as a copy.\n",
      "\n",
      "For example, when doing 'df[col].method(value, inplace=True)', try using 'df.method({col: value}, inplace=True)' or df[col] = df[col].method(value) instead, to perform the operation inplace on the original object.\n",
      "\n",
      "\n",
      "  df['Fare'].fillna(df['Fare'].median(), inplace=True)\n",
      "\u001b[34m\u001b[1mwandb\u001b[0m: \u001b[32m\u001b[41mERROR\u001b[0m The nbformat package was not found. It is required to save notebook history.\n"
     ]
    },
    {
     "data": {
      "text/html": [],
      "text/plain": [
       "<IPython.core.display.HTML object>"
      ]
     },
     "metadata": {},
     "output_type": "display_data"
    },
    {
     "data": {
      "text/html": [
       " View run <strong style=\"color:#cdcd00\">comic-energy-5</strong> at: <a href='https://wandb.ai/ad_92_ywlcod-polytechnique-montr-al/Artifacts%20Registry/runs/lsnhr4uv' target=\"_blank\">https://wandb.ai/ad_92_ywlcod-polytechnique-montr-al/Artifacts%20Registry/runs/lsnhr4uv</a><br> View project at: <a href='https://wandb.ai/ad_92_ywlcod-polytechnique-montr-al/Artifacts%20Registry' target=\"_blank\">https://wandb.ai/ad_92_ywlcod-polytechnique-montr-al/Artifacts%20Registry</a><br>Synced 5 W&B file(s), 0 media file(s), 2 artifact file(s) and 0 other file(s)"
      ],
      "text/plain": [
       "<IPython.core.display.HTML object>"
      ]
     },
     "metadata": {},
     "output_type": "display_data"
    },
    {
     "data": {
      "text/html": [
       "Find logs at: <code>./wandb/run-20250813_071654-lsnhr4uv/logs</code>"
      ],
      "text/plain": [
       "<IPython.core.display.HTML object>"
      ]
     },
     "metadata": {},
     "output_type": "display_data"
    }
   ],
   "source": [
    "run = wandb.init(project=\"Artifacts Registry\", job_type=\"data-loading\")\n",
    "\n",
    "# Create new artifact version\n",
    "artifact_name = \"clean_titanic\"\n",
    "artifact_old=run.use_artifact('ad_92_ywlcod-polytechnique-montr-al/Artifacts Registry/clean_titanic:v0', type='dataset')\n",
    "artifact_next_version = wandb.Artifact(artifact_name, type='dataset')\n",
    "\n",
    "# Update the data or get new data for the next version\n",
    "## artifact_old_path = artifact_old.download()\n",
    "## clean_titanic_df_old = pd.read_csv(artifact_old_path)\n",
    "clean_titanic_df_filled = clean_titanic(raw_titanic_df, fill_missing=True)\n",
    "clean_titanic_df_filled.to_csv('clean_titanic.csv', index=False)\n",
    "\n",
    "# Log the new artifact\n",
    "artifact_next_version.add_file('clean_titanic.csv')\n",
    "wandb.log_artifact(artifact_next_version, aliases =[\"filled\"])\n",
    "\n",
    "wandb.finish()"
   ]
  },
  {
   "cell_type": "markdown",
   "metadata": {},
   "source": [
    "## Create Model Artifact"
   ]
  },
  {
   "cell_type": "code",
   "execution_count": 15,
   "metadata": {},
   "outputs": [
    {
     "data": {
      "text/html": [
       "Tracking run with wandb version 0.21.1"
      ],
      "text/plain": [
       "<IPython.core.display.HTML object>"
      ]
     },
     "metadata": {},
     "output_type": "display_data"
    },
    {
     "data": {
      "text/html": [
       "Run data is saved locally in <code>/store/home/tibia/Projet_Hemorragie/Seg_hemorragie/Notebooks/wandb/run-20250813_072132-ctc0y915</code>"
      ],
      "text/plain": [
       "<IPython.core.display.HTML object>"
      ]
     },
     "metadata": {},
     "output_type": "display_data"
    },
    {
     "data": {
      "text/html": [
       "Syncing run <strong><a href='https://wandb.ai/ad_92_ywlcod-polytechnique-montr-al/Artifacts%20Registry/runs/ctc0y915' target=\"_blank\">twilight-feather-6</a></strong> to <a href='https://wandb.ai/ad_92_ywlcod-polytechnique-montr-al/Artifacts%20Registry' target=\"_blank\">Weights & Biases</a> (<a href='https://wandb.me/developer-guide' target=\"_blank\">docs</a>)<br>"
      ],
      "text/plain": [
       "<IPython.core.display.HTML object>"
      ]
     },
     "metadata": {},
     "output_type": "display_data"
    },
    {
     "data": {
      "text/html": [
       " View project at <a href='https://wandb.ai/ad_92_ywlcod-polytechnique-montr-al/Artifacts%20Registry' target=\"_blank\">https://wandb.ai/ad_92_ywlcod-polytechnique-montr-al/Artifacts%20Registry</a>"
      ],
      "text/plain": [
       "<IPython.core.display.HTML object>"
      ]
     },
     "metadata": {},
     "output_type": "display_data"
    },
    {
     "data": {
      "text/html": [
       " View run at <a href='https://wandb.ai/ad_92_ywlcod-polytechnique-montr-al/Artifacts%20Registry/runs/ctc0y915' target=\"_blank\">https://wandb.ai/ad_92_ywlcod-polytechnique-montr-al/Artifacts%20Registry/runs/ctc0y915</a>"
      ],
      "text/plain": [
       "<IPython.core.display.HTML object>"
      ]
     },
     "metadata": {},
     "output_type": "display_data"
    },
    {
     "name": "stderr",
     "output_type": "stream",
     "text": [
      "\u001b[34m\u001b[1mwandb\u001b[0m:   1 of 1 files downloaded.  \n",
      "\u001b[34m\u001b[1mwandb\u001b[0m: \u001b[32m\u001b[41mERROR\u001b[0m The nbformat package was not found. It is required to save notebook history.\n"
     ]
    },
    {
     "data": {
      "text/html": [],
      "text/plain": [
       "<IPython.core.display.HTML object>"
      ]
     },
     "metadata": {},
     "output_type": "display_data"
    },
    {
     "data": {
      "text/html": [
       "<br>    <style><br>        .wandb-row {<br>            display: flex;<br>            flex-direction: row;<br>            flex-wrap: wrap;<br>            justify-content: flex-start;<br>            width: 100%;<br>        }<br>        .wandb-col {<br>            display: flex;<br>            flex-direction: column;<br>            flex-basis: 100%;<br>            flex: 1;<br>            padding: 10px;<br>        }<br>    </style><br><div class=\"wandb-row\"><div class=\"wandb-col\"><h3>Run history:</h3><br/><table class=\"wandb\"><tr><td>accuracy</td><td>▁</td></tr></table><br/></div><div class=\"wandb-col\"><h3>Run summary:</h3><br/><table class=\"wandb\"><tr><td>accuracy</td><td>0.79888</td></tr></table><br/></div></div>"
      ],
      "text/plain": [
       "<IPython.core.display.HTML object>"
      ]
     },
     "metadata": {},
     "output_type": "display_data"
    },
    {
     "data": {
      "text/html": [
       " View run <strong style=\"color:#cdcd00\">twilight-feather-6</strong> at: <a href='https://wandb.ai/ad_92_ywlcod-polytechnique-montr-al/Artifacts%20Registry/runs/ctc0y915' target=\"_blank\">https://wandb.ai/ad_92_ywlcod-polytechnique-montr-al/Artifacts%20Registry/runs/ctc0y915</a><br> View project at: <a href='https://wandb.ai/ad_92_ywlcod-polytechnique-montr-al/Artifacts%20Registry' target=\"_blank\">https://wandb.ai/ad_92_ywlcod-polytechnique-montr-al/Artifacts%20Registry</a><br>Synced 5 W&B file(s), 0 media file(s), 2 artifact file(s) and 0 other file(s)"
      ],
      "text/plain": [
       "<IPython.core.display.HTML object>"
      ]
     },
     "metadata": {},
     "output_type": "display_data"
    },
    {
     "data": {
      "text/html": [
       "Find logs at: <code>./wandb/run-20250813_072132-ctc0y915/logs</code>"
      ],
      "text/plain": [
       "<IPython.core.display.HTML object>"
      ]
     },
     "metadata": {},
     "output_type": "display_data"
    }
   ],
   "source": [
    "run = wandb.init(project=\"Artifacts Registry\", job_type=\"training\")\n",
    "\n",
    "# Load artifact dataset\n",
    "artifact = run.use_artifact(artifact_or_name=\n",
    "                  f\"ad_92_ywlcod-polytechnique-montr-al/Artifacts Registry/clean_titanic:v1\")\n",
    "path = artifact.download()\n",
    "df = pd.read_csv(f\"{path}/clean_titanic.csv\")\n",
    "\n",
    "# Get feature and labels\n",
    "X, y = df.drop('Survived', axis=1), df['Survived']\n",
    "X_train, X_test, y_train, y_test = train_test_split(X, y, test_size=0.2,\n",
    "                                                    random_state=42)\n",
    "\n",
    "# Create a model and save it\n",
    "clf = RandomForestClassifier(n_estimators=1, max_depth=5)\n",
    "clf.fit(X_train, y_train)\n",
    "wandb.log({\"accuracy\": clf.score(X_test, y_test)})\n",
    "\n",
    "# Create Artifact object\n",
    "joblib.dump(clf, 'random_forest_model.pkl')\n",
    "model_artifact = wandb.Artifact(name='random_forest_model', type='model')\n",
    "model_artifact.add_file('random_forest_model.pkl')\n",
    "wandb.log_artifact(model_artifact)\n",
    "\n",
    "wandb.finish()"
   ]
  },
  {
   "cell_type": "markdown",
   "metadata": {},
   "source": [
    "## Tables\n",
    "\n"
   ]
  },
  {
   "cell_type": "code",
   "execution_count": 17,
   "metadata": {},
   "outputs": [
    {
     "data": {
      "text/html": [
       "Finishing previous runs because reinit is set to 'default'."
      ],
      "text/plain": [
       "<IPython.core.display.HTML object>"
      ]
     },
     "metadata": {},
     "output_type": "display_data"
    },
    {
     "name": "stderr",
     "output_type": "stream",
     "text": [
      "\u001b[34m\u001b[1mwandb\u001b[0m: \u001b[32m\u001b[41mERROR\u001b[0m The nbformat package was not found. It is required to save notebook history.\n"
     ]
    },
    {
     "data": {
      "text/html": [],
      "text/plain": [
       "<IPython.core.display.HTML object>"
      ]
     },
     "metadata": {},
     "output_type": "display_data"
    },
    {
     "data": {
      "text/html": [
       " View run <strong style=\"color:#cdcd00\">gallant-meadow-1</strong> at: <a href='https://wandb.ai/ad_92_ywlcod-polytechnique-montr-al/Table/runs/7s6dqxg7' target=\"_blank\">https://wandb.ai/ad_92_ywlcod-polytechnique-montr-al/Table/runs/7s6dqxg7</a><br> View project at: <a href='https://wandb.ai/ad_92_ywlcod-polytechnique-montr-al/Table' target=\"_blank\">https://wandb.ai/ad_92_ywlcod-polytechnique-montr-al/Table</a><br>Synced 5 W&B file(s), 0 media file(s), 0 artifact file(s) and 0 other file(s)"
      ],
      "text/plain": [
       "<IPython.core.display.HTML object>"
      ]
     },
     "metadata": {},
     "output_type": "display_data"
    },
    {
     "data": {
      "text/html": [
       "Find logs at: <code>./wandb/run-20250813_072905-7s6dqxg7/logs</code>"
      ],
      "text/plain": [
       "<IPython.core.display.HTML object>"
      ]
     },
     "metadata": {},
     "output_type": "display_data"
    },
    {
     "data": {
      "text/html": [
       "Tracking run with wandb version 0.21.1"
      ],
      "text/plain": [
       "<IPython.core.display.HTML object>"
      ]
     },
     "metadata": {},
     "output_type": "display_data"
    },
    {
     "data": {
      "text/html": [
       "Run data is saved locally in <code>/store/home/tibia/Projet_Hemorragie/Seg_hemorragie/Notebooks/wandb/run-20250813_072943-jlogs6lg</code>"
      ],
      "text/plain": [
       "<IPython.core.display.HTML object>"
      ]
     },
     "metadata": {},
     "output_type": "display_data"
    },
    {
     "data": {
      "text/html": [
       "Syncing run <strong><a href='https://wandb.ai/ad_92_ywlcod-polytechnique-montr-al/Table/runs/jlogs6lg' target=\"_blank\">lively-oath-2</a></strong> to <a href='https://wandb.ai/ad_92_ywlcod-polytechnique-montr-al/Table' target=\"_blank\">Weights & Biases</a> (<a href='https://wandb.me/developer-guide' target=\"_blank\">docs</a>)<br>"
      ],
      "text/plain": [
       "<IPython.core.display.HTML object>"
      ]
     },
     "metadata": {},
     "output_type": "display_data"
    },
    {
     "data": {
      "text/html": [
       " View project at <a href='https://wandb.ai/ad_92_ywlcod-polytechnique-montr-al/Table' target=\"_blank\">https://wandb.ai/ad_92_ywlcod-polytechnique-montr-al/Table</a>"
      ],
      "text/plain": [
       "<IPython.core.display.HTML object>"
      ]
     },
     "metadata": {},
     "output_type": "display_data"
    },
    {
     "data": {
      "text/html": [
       " View run at <a href='https://wandb.ai/ad_92_ywlcod-polytechnique-montr-al/Table/runs/jlogs6lg' target=\"_blank\">https://wandb.ai/ad_92_ywlcod-polytechnique-montr-al/Table/runs/jlogs6lg</a>"
      ],
      "text/plain": [
       "<IPython.core.display.HTML object>"
      ]
     },
     "metadata": {},
     "output_type": "display_data"
    },
    {
     "name": "stderr",
     "output_type": "stream",
     "text": [
      "\u001b[34m\u001b[1mwandb\u001b[0m:   1 of 1 files downloaded.  \n",
      "\u001b[34m\u001b[1mwandb\u001b[0m:   1 of 1 files downloaded.  \n"
     ]
    },
    {
     "data": {
      "text/html": [],
      "text/plain": [
       "<IPython.core.display.HTML object>"
      ]
     },
     "metadata": {},
     "output_type": "display_data"
    },
    {
     "data": {
      "text/html": [
       "<br>    <style><br>        .wandb-row {<br>            display: flex;<br>            flex-direction: row;<br>            flex-wrap: wrap;<br>            justify-content: flex-start;<br>            width: 100%;<br>        }<br>        .wandb-col {<br>            display: flex;<br>            flex-direction: column;<br>            flex-basis: 100%;<br>            flex: 1;<br>            padding: 10px;<br>        }<br>    </style><br><div class=\"wandb-row\"><div class=\"wandb-col\"><h3>Run history:</h3><br/><table class=\"wandb\"><tr><td>accuracy</td><td>▁</td></tr></table><br/></div><div class=\"wandb-col\"><h3>Run summary:</h3><br/><table class=\"wandb\"><tr><td>accuracy</td><td>0.79888</td></tr></table><br/></div></div>"
      ],
      "text/plain": [
       "<IPython.core.display.HTML object>"
      ]
     },
     "metadata": {},
     "output_type": "display_data"
    },
    {
     "data": {
      "text/html": [
       " View run <strong style=\"color:#cdcd00\">lively-oath-2</strong> at: <a href='https://wandb.ai/ad_92_ywlcod-polytechnique-montr-al/Table/runs/jlogs6lg' target=\"_blank\">https://wandb.ai/ad_92_ywlcod-polytechnique-montr-al/Table/runs/jlogs6lg</a><br> View project at: <a href='https://wandb.ai/ad_92_ywlcod-polytechnique-montr-al/Table' target=\"_blank\">https://wandb.ai/ad_92_ywlcod-polytechnique-montr-al/Table</a><br>Synced 5 W&B file(s), 1 media file(s), 2 artifact file(s) and 0 other file(s)"
      ],
      "text/plain": [
       "<IPython.core.display.HTML object>"
      ]
     },
     "metadata": {},
     "output_type": "display_data"
    },
    {
     "data": {
      "text/html": [
       "Find logs at: <code>./wandb/run-20250813_072943-jlogs6lg/logs</code>"
      ],
      "text/plain": [
       "<IPython.core.display.HTML object>"
      ]
     },
     "metadata": {},
     "output_type": "display_data"
    }
   ],
   "source": [
    "run = wandb.init(project='Table')\n",
    "\n",
    "# Load artifact dataset\n",
    "artifact = run.use_artifact(\n",
    "    artifact_or_name=f\"ad_92_ywlcod-polytechnique-montr-al/Artifacts Registry/clean_titanic:v1\")\n",
    "\n",
    "path = artifact.download()\n",
    "df = pd.read_csv(f\"{path}/clean_titanic.csv\")\n",
    "\n",
    "# Get feature and labels\n",
    "X, y = df.drop('Survived', axis=1), df['Survived']\n",
    "X_train, X_test, y_train, y_test = train_test_split(X, y, test_size=0.2,\n",
    "                                                    random_state=42)\n",
    "\n",
    "# Create a model and save it\n",
    "model_artifact = run.use_artifact(\n",
    "    'ad_92_ywlcod-polytechnique-montr-al/Artifacts Registry/random_forest_model:v0',\n",
    "    type='model'\n",
    ")\n",
    "model_artifact_dir = model_artifact.download()\n",
    "clf = joblib.load(f\"{model_artifact_dir}/random_forest_model.pkl\")\n",
    "wandb.log({\"accuracy\": clf.score(X_test, y_test)})\n",
    "\n",
    "# Create Table\n",
    "table = wandb.Table(columns=['y_pred', 'y_true', 'prob_survive',\n",
    "                             'Pclass', 'Sex', 'Age',\n",
    "                             'SibSp', 'Parch', 'Fare',\n",
    "                             'Embarked'])\n",
    "\n",
    "# Add prediction data to the table\n",
    "for i in range(len(X_test)):\n",
    "  # Get Values\n",
    "  row = X_test.iloc[[i]]\n",
    "  y_pred = clf.predict(row)[0]\n",
    "  y_prob_1 = clf.predict_proba(row)[0][1]\n",
    "  y_true = y_test.iloc[i]\n",
    "\n",
    "  # Add values to table\n",
    "  table.add_data(\n",
    "      y_pred, y_true, y_prob_1,\n",
    "      row['Pclass'].iloc[0], row['Sex'].iloc[0], row['Age'].iloc[0],\n",
    "      row['SibSp'].iloc[0], row['Parch'].iloc[0], row['Fare'].iloc[0],\n",
    "      row['Embarked'].iloc[0])\n",
    "\n",
    "run.log({\"test_predictions\": table})\n",
    "\n",
    "wandb.finish()"
   ]
  },
  {
   "cell_type": "markdown",
   "metadata": {},
   "source": [
    "## SWEEP"
   ]
  },
  {
   "cell_type": "code",
   "execution_count": null,
   "metadata": {},
   "outputs": [],
   "source": [
    "def main():\n",
    "  run = wandb.init()\n",
    "  config = wandb.config\n",
    "\n",
    "  # Get Train and Test Data\n",
    "  artifact = run.use_artifact(\n",
    "      artifact_or_name=f\"ad_92_ywlcod-polytechnique-montr-al/Artifacts Registry/clean_titanic:v1\"\n",
    "  )\n",
    "  path = artifact.download()\n",
    "  df = pd.read_csv(f\"{path}/clean_titanic.csv\")\n",
    "  X, y = df.drop('Survived', axis=1), df['Survived']\n",
    "  X_train, X_test, y_train, y_test = train_test_split(X, y, test_size=0.2,\n",
    "                                                      random_state=42)\n",
    "\n",
    "  # Get PyTorch Data Loaders w/ batch_size\n",
    "  train_loader, test_loader = get_data_loaders(X_train, X_test, y_train, y_test,\n",
    "                                               batch_size=config.batch_size)\n",
    "\n",
    "  # Define Simple PyTorch Model\n",
    "  model = nn.Sequential(\n",
    "      nn.Linear(7, 32), # 7 input features -> 32 hidden nodes\n",
    "      nn.ReLU(),\n",
    "      nn.Linear(32, 16),\n",
    "      nn.ReLU(),\n",
    "      nn.Linear(16, 1),\n",
    "      nn.Sigmoid()\n",
    "  ).to(device)\n",
    "\n",
    "  # Loss Funciton\n",
    "  criterion = nn.BCELoss()\n",
    "\n",
    "  # Optimizer\n",
    "  if config.optimizer == 'adam':\n",
    "    optimizer = optim.Adam(model.parameters(), lr=config.learning_rate)\n",
    "  else:\n",
    "    optimizer = optim.SGD(model.parameters(), lr=config.learning_rate)\n",
    "\n",
    "  for epoch in range(config.num_epochs):\n",
    "    train_loss = train_loop(train_loader, model, optimizer, criterion, device)\n",
    "    test_loss = train_loop(test_loader, model, optimizer, criterion, device)\n",
    "\n",
    "    wandb.log({\n",
    "      \"train_loss\": train_loss,\n",
    "      \"test_loss\": test_loss\n",
    "    })\n",
    "\n",
    "  wandb.finish()\n",
    "\n",
    "# Initialize the sweep\n",
    "sweep_config = {\n",
    "    \"method\": \"random\",\n",
    "    \"metric\": {\"goal\": \"minimize\", \"name\": \"test_loss\"},\n",
    "    \"parameters\": {\n",
    "        \"learning_rate\": {\"min\": 0.001, \"max\": 0.1},\n",
    "        \"batch_size\": {\"values\": [32, 64, 128]},\n",
    "        \"optimizer\": {\"values\": [\"adam\", \"sgd\"]},\n",
    "        \"num_epochs\": {\"values\": [5, 10, 15]}\n",
    "    },\n",
    "}\n",
    "sweep_id = wandb.sweep(sweep_config, project='Sweep')\n",
    "\n",
    "# Run the sweep\n",
    "wandb.agent(sweep_id, function=main)"
   ]
  },
  {
   "cell_type": "markdown",
   "metadata": {},
   "source": []
  }
 ],
 "metadata": {
  "kernelspec": {
   "display_name": "hemorragie-env",
   "language": "python",
   "name": "python3"
  },
  "language_info": {
   "codemirror_mode": {
    "name": "ipython",
    "version": 3
   },
   "file_extension": ".py",
   "mimetype": "text/x-python",
   "name": "python",
   "nbconvert_exporter": "python",
   "pygments_lexer": "ipython3",
   "version": "3.12.9"
  }
 },
 "nbformat": 4,
 "nbformat_minor": 2
}
